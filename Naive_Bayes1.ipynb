{
  "nbformat": 4,
  "nbformat_minor": 0,
  "metadata": {
    "colab": {
      "name": "Naive Bayes1.ipynb",
      "provenance": [],
      "authorship_tag": "ABX9TyNpHaiQiaeMp72pTe7ZmYVH",
      "include_colab_link": true
    },
    "kernelspec": {
      "name": "python3",
      "display_name": "Python 3"
    }
  },
  "cells": [
    {
      "cell_type": "markdown",
      "metadata": {
        "id": "view-in-github",
        "colab_type": "text"
      },
      "source": [
        "<a href=\"https://colab.research.google.com/github/suhendi99/Suhendi80/blob/main/Naive_Bayes1.ipynb\" target=\"_parent\"><img src=\"https://colab.research.google.com/assets/colab-badge.svg\" alt=\"Open In Colab\"/></a>"
      ]
    },
    {
      "cell_type": "code",
      "metadata": {
        "id": "mtNqYV12uV6N"
      },
      "source": [
        "\r\n",
        "Outlook=['Sunny','Sunny','Overcast','Rain','Rain','Rain','Overcast','Sunny','Sunny','Rain','Sunny','Overcast','Overcast','Rain']\r\n",
        "Temperature=['Hot','Hot','Mild','Mild','Cool','Cool','Cool','Mild','Cool','Mild','Mild','Mild','Mild','Mild']\r\n",
        "Humidity=['High','High','High','High','Normal','Normal','Normal','High','Normal','Normal','Normal','High','Normal','High']\r\n",
        "Wind=['Weak','Strong','Weak','Weak','Weak','Strong','Strong','Weak','Weak','Weak','Strong','Strong','Weak','Strong']\r\n",
        "PlayTennis=['No','No','Yes','Yes','Yes','No','Yes','No','Yes','Yes','Yes','Yes','Yes','No']"
      ],
      "execution_count": 1,
      "outputs": []
    },
    {
      "cell_type": "code",
      "metadata": {
        "colab": {
          "base_uri": "https://localhost:8080/"
        },
        "id": "iEzJlXv2vSD_",
        "outputId": "112da795-3d8c-435d-8bba-422d4f144d20"
      },
      "source": [
        "from sklearn import preprocessing\r\n",
        "label = preprocessing.LabelEncoder()\r\n",
        "Outlook_encoded=label.fit_transform(Outlook)#untuk 0 adalah Overcast,untuk 1 adalah Rain,untuk 2 adalah Sunny\r\n",
        "Temperature_encoded=label.fit_transform(Temperature)#untuk 0 adalah Cool,Untuk 1 adalah Hot,untuk 2 adalah Mild\r\n",
        "Humidity_encoded=label.fit_transform(Humidity)#untuk 0 adalah High,Untuk 1 adalah Normal\r\n",
        "Wind_encoded=label.fit_transform(Wind)#Untuk 0 adalah Strong ,Untuk 1 Adalah Weak\r\n",
        "PlayTennis_encoded=label.fit_transform(PlayTennis)#Untuk 0 Adalah No,Untuk 1 adalah Yes\r\n",
        "print(Outlook_encoded)\r\n",
        "print(Temperature_encoded)\r\n",
        "print(Humidity_encoded)\r\n",
        "print(Wind_encoded)\r\n",
        "print(PlayTennis_encoded)"
      ],
      "execution_count": 2,
      "outputs": [
        {
          "output_type": "stream",
          "text": [
            "[2 2 0 1 1 1 0 2 2 1 2 0 0 1]\n",
            "[1 1 2 2 0 0 0 2 0 2 2 2 2 2]\n",
            "[0 0 0 0 1 1 1 0 1 1 1 0 1 0]\n",
            "[1 0 1 1 1 0 0 1 1 1 0 0 1 0]\n",
            "[0 0 1 1 1 0 1 0 1 1 1 1 1 0]\n"
          ],
          "name": "stdout"
        }
      ]
    },
    {
      "cell_type": "code",
      "metadata": {
        "colab": {
          "base_uri": "https://localhost:8080/"
        },
        "id": "WPnVC0N0vPKv",
        "outputId": "1ff4835b-f491-4651-b2da-b0dc33cb5536"
      },
      "source": [
        "print(\"Outlook    :\",Outlook_encoded)\r\n",
        "print(\"Temperature:\",Temperature_encoded)\r\n",
        "print(\"Humidity   :\",Humidity_encoded)\r\n",
        "print(\"Wind       :\",Wind_encoded)\r\n",
        "print(\"Play Tennis:\",PlayTennis_encoded)#class"
      ],
      "execution_count": 3,
      "outputs": [
        {
          "output_type": "stream",
          "text": [
            "Outlook    : [2 2 0 1 1 1 0 2 2 1 2 0 0 1]\n",
            "Temperature: [1 1 2 2 0 0 0 2 0 2 2 2 2 2]\n",
            "Humidity   : [0 0 0 0 1 1 1 0 1 1 1 0 1 0]\n",
            "Wind       : [1 0 1 1 1 0 0 1 1 1 0 0 1 0]\n",
            "Play Tennis: [0 0 1 1 1 0 1 0 1 1 1 1 1 0]\n"
          ],
          "name": "stdout"
        }
      ]
    },
    {
      "cell_type": "code",
      "metadata": {
        "colab": {
          "base_uri": "https://localhost:8080/"
        },
        "id": "LyQ0Dye-vhIK",
        "outputId": "c1259ad9-650b-4da0-f141-d74419c0a44e"
      },
      "source": [
        "\r\n",
        "features=zip(Outlook_encoded,Temperature_encoded,Humidity_encoded,Wind_encoded)\r\n",
        "features=list(features)\r\n",
        "print (tuple(features))"
      ],
      "execution_count": 4,
      "outputs": [
        {
          "output_type": "stream",
          "text": [
            "((2, 1, 0, 1), (2, 1, 0, 0), (0, 2, 0, 1), (1, 2, 0, 1), (1, 0, 1, 1), (1, 0, 1, 0), (0, 0, 1, 0), (2, 2, 0, 1), (2, 0, 1, 1), (1, 2, 1, 1), (2, 2, 1, 0), (0, 2, 0, 0), (0, 2, 1, 1), (1, 2, 0, 0))\n"
          ],
          "name": "stdout"
        }
      ]
    },
    {
      "cell_type": "code",
      "metadata": {
        "colab": {
          "base_uri": "https://localhost:8080/"
        },
        "id": "CFYZG5PXvml5",
        "outputId": "8d97524f-be28-4ffe-9d9e-0305f6bad927"
      },
      "source": [
        "from sklearn.naive_bayes import GaussianNB\r\n",
        "model = GaussianNB()\r\n",
        "model.fit(features,PlayTennis)\r\n",
        "predicted= model.predict([[0,1,0,0]])\r\n",
        "#Outlook untuk 0 adalah Overcast,untuk 1 adalah Rain,untuk 2 adalah Sunny\r\n",
        "#Temperature untuk 0 adalah Cool,Untuk 1 adalah Hot,untuk 2 adalah Mild\r\n",
        "#Humidity untuk 0 adalah High,Untuk 1 adalah Normal\r\n",
        "#Wind Untuk 0 adalah Strong ,Untuk 1 Adalah Weak\r\n",
        "print(\"Hasil Prediksi:\",predicted)"
      ],
      "execution_count": 5,
      "outputs": [
        {
          "output_type": "stream",
          "text": [
            "Hasil Prediksi: ['Yes']\n"
          ],
          "name": "stdout"
        }
      ]
    }
  ]
}